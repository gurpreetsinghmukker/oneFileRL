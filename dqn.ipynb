{
 "cells": [
  {
   "cell_type": "code",
   "execution_count": 14,
   "metadata": {},
   "outputs": [
    {
     "name": "stdout",
     "output_type": "stream",
     "text": [
      "(array([[ 0,  0,  0, ...,  0,  0,  0],\n",
      "       [ 0,  0,  0, ...,  0,  0,  0],\n",
      "       [ 0,  0,  0, ...,  0,  0,  0],\n",
      "       ...,\n",
      "       [79, 79, 79, ..., 79, 79, 79],\n",
      "       [79, 79, 79, ..., 79, 79, 79],\n",
      "       [79, 79, 79, ..., 79, 79, 79]], dtype=uint8), {'lives': 3, 'episode_frame_number': 0, 'frame_number': 0})\n"
     ]
    },
    {
     "data": {
      "text/plain": [
       "(array([[ 0,  0,  0, ...,  0,  0,  0],\n",
       "        [ 0,  0,  0, ...,  0,  0,  0],\n",
       "        [ 0,  0,  0, ...,  0,  0,  0],\n",
       "        ...,\n",
       "        [79, 79, 79, ..., 79, 79, 79],\n",
       "        [79, 79, 79, ..., 79, 79, 79],\n",
       "        [79, 79, 79, ..., 79, 79, 79]], dtype=uint8),\n",
       " 0.0,\n",
       " False,\n",
       " False,\n",
       " {'lives': 3, 'episode_frame_number': 4, 'frame_number': 4})"
      ]
     },
     "execution_count": 14,
     "metadata": {},
     "output_type": "execute_result"
    }
   ],
   "source": [
    "import gymnasium as gym\n",
    "# from ale_py import ALEInterface\n",
    "# from ale_py.roms import Alien\n",
    "\n",
    "# ale=ALEInterface()e\n",
    "# ale.loadROM(Alien)\n",
    "\n",
    "env = gym.make( id = 'ALE/SpaceInvaders-v5', mode = 0, obs_type = 'grayscale', render_mode = 'human' )\n",
    "print(env.reset())\n",
    "env.step(1)\n",
    "\n",
    "\n",
    "\n",
    "\n"
   ]
  },
  {
   "cell_type": "code",
   "execution_count": null,
   "metadata": {},
   "outputs": [],
   "source": []
  }
 ],
 "metadata": {
  "kernelspec": {
   "display_name": ".venv",
   "language": "python",
   "name": "python3"
  },
  "language_info": {
   "codemirror_mode": {
    "name": "ipython",
    "version": 3
   },
   "file_extension": ".py",
   "mimetype": "text/x-python",
   "name": "python",
   "nbconvert_exporter": "python",
   "pygments_lexer": "ipython3",
   "version": "3.11.4"
  }
 },
 "nbformat": 4,
 "nbformat_minor": 2
}
